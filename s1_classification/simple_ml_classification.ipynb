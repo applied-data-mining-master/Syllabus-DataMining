{
 "cells": [
  {
   "cell_type": "markdown",
   "metadata": {},
   "source": [
    "# Training Simple Machine Learning Algorithms for Classification\n",
    "\n",
    "In this chapter, we will make use of two of the first algorithmically described machine learning algorithms for classification, the perceptron and adaptive linear neurons. We will start by implementing a perceptron step by step in Python and training it to classify different flower species in the Iris dataset.\n",
    "\n",
    "## Artificial neurons\n",
    "Trying to understand how the biological brain works, in order to design AI, Warren McCulloch and Walter Pitts published the first concept of a simplified brain cell, the so-called McCulloch-Pitts (MCP) neuron, in 1943. Neurons are interconnected nerve cells in the brain that are involved in the processing and transmitting of chemical and electrical signals, which is illustrated in the following figure:\n",
    "\n",
    "<img src=\"images/neuron_cell.jpeg\" alt=\"Neuron cells\" title=\"Neuron Cells\" width=\"550\" height=\"350\">\n",
    "\n",
    "Only a few years later, Frank Rosenblatt published the first concept of the perceptron learning rule based on the MCP neuron model. With his perceptron rule, Rosenblatt proposed an algorithm that would automatically learn the optimal weight coefficients that are then multiplied with the input features in order to make the decision of whether a neuron fires or not."
   ]
  },
  {
   "cell_type": "markdown",
   "metadata": {},
   "source": [
    "### The formal definition of an artificial neuron\n",
    "More formally, we can put the idea behind artificial neurons into the context of a binary classification task.  We can then define a decision function $(\\phi(z))$ that takes a linear combination of certain input values $x$ and a corresponding weight vector $w$, where $z$ is the so-called net input $z = w_1x_1 + \\dots + w_mx_m$:\n",
    "\n",
    "\\begin{equation*}\n",
    "w = \\begin{bmatrix}\n",
    "w_1 \\\\\n",
    "\\vdots \\\\\n",
    "w_m\n",
    "\\end{bmatrix}, x = \\begin{bmatrix}\n",
    "x_1 \\\\\n",
    "\\vdots \\\\\n",
    "x_m\n",
    "\\end{bmatrix}\n",
    "\\end{equation*}\n",
    "\n",
    "In the perceptron algorithm, the decision function $\\phi(\\cdot)$ is a variant of a **unit step function**:\n",
    "\n",
    "\\begin{equation*}\n",
    "    \\phi(z) = \\left\\{ \\begin{matrix}\n",
    "    1 & if z \\ge \\Theta \\\\\n",
    "    -1 & otherwise\n",
    "    \\end{matrix} \\right.\n",
    "\\end{equation*}\n",
    "\n",
    "For simplicity, we can bring the threshold $\\theta$ to the left side of the equation and define a weight-zero as $w_0 = -\\Theta$ and $x_0 = 1$ so that we write z in a more compact form:\n",
    "\n",
    "\\begin{equation*}\n",
    "z = w_0x_0 + w_1x_1 + \\dots + w_mx_m = w^T x\n",
    "\\end{equation*}\n",
    "\n",
    "and\n",
    "\n",
    "\\begin{equation*}\n",
    "    \\phi(z) = \\left\\{ \\begin{matrix}\n",
    "    1 & if z \\ge 0 \\\\\n",
    "    -1 & otherwise\n",
    "    \\end{matrix} \\right.\n",
    "\\end{equation*}\n",
    "\n",
    "In machine learning literature, the negative threshold, or weight, $w_0 = -\\Theta$ , is usually called the *bias unit*."
   ]
  },
  {
   "cell_type": "markdown",
   "metadata": {},
   "source": [
    "The following figure illustrates how the net input $z = w^T x$ is squashed into a binary output $(-1 \\text{ or } 1)$ by the decision function of the perceptron (left subfigure) and how it can be used to discriminate between two linearly separable classes (right subfigure):\n",
    "\n",
    " <img src=\"images/perceptron_binary_output.jpeg\" alt=\"Perceptron binary Output\" title=\"Perceptron binary Output\" width=\"550\" height=\"350\">"
   ]
  },
  {
   "cell_type": "markdown",
   "metadata": {},
   "source": [
    "### Perceptron learning rule\n",
    "\n",
    "Rosenblatt's initial perceptron rule is fairly simple and can be summarized by the following steps:\n",
    "\n",
    "> 1. Initialize the weights to 0 or small random numbers.\n",
    "> 2. For each training sample $x^{(i)}$:\n",
    ">   1. Compute the output value $\\hat{y}$.\n",
    ">   2. Update the weights.\n",
    "\n",
    "Here, the output value is the class label predicted by the unit step function that we defined earlier, and the simultaneous update of each weight in the weight vector w can be more formally written as:\n",
    "\n",
    "\\begin{equation*}\n",
    "w_j := w_j + \\Delta w_j\n",
    "\\end{equation*}\n",
    "\n",
    "The value of $\\Delta w_j$, which is used to update the weight $w_j$ , is calculated by the perceptron learning rule:\n",
    "\n",
    "\\begin{equation*}\n",
    "\\Delta w_j = \\eta \\left( y^{(i)} - \\hat{y}^{(i)} \\right)x^{(i)}_j\n",
    "\\end{equation*}\n",
    "\n",
    "Where $\\eta$ is the learning rate, $y^{(i)}$ is the **true class label** of the ith training sample, $\\hat{y}^{(i)}$ and is the **predicted class label**. For example, for a two-dimensional dataset, we would write the update as:\n",
    "\n",
    "\\begin{equation*}\n",
    "\\Delta w_0 = \\eta\\left( y^{(i)} - output^{(i)} \\right)\n",
    "\\end{equation*}\n",
    "\n",
    "\\begin{equation*}\n",
    "\\Delta w_1 = \\eta \\left( y^{(i)} - output^{(i)} \\right) x_1^{(i)}\n",
    "\\end{equation*}\n",
    "\n",
    "\\begin{equation*}\n",
    "\\Delta w_2 = \\eta \\left( y^{(i)} - output^{(i)} \\right) x_2^{(i)}\n",
    "\\end{equation*}"
   ]
  },
  {
   "cell_type": "markdown",
   "metadata": {},
   "source": [
    "It is important to note that the convergence of the perceptron is only guaranteed if the two classes are linearly separable and the learning rate is sufficiently small.\n",
    "\n",
    "<img src=\"images/separation_spaces.jpeg\" alt=\"linear and non-linear separable spaces\" title=\"linear and non-linear separable spaces\" width=\"550\" height=\"350\">"
   ]
  },
  {
   "cell_type": "markdown",
   "metadata": {},
   "source": [
    "Let us summarize what we just learned in a simple diagram that illustrates the general concept of the perceptron:\n",
    "\n",
    "<img src=\"images/perceptron_diagram.jpeg\" alt=\"Perceptron\" title=\"Perceptron\" width=\"550\" height=\"350\">"
   ]
  },
  {
   "cell_type": "markdown",
   "metadata": {},
   "source": [
    "## Implementation of a Perceptron in Python"
   ]
  },
  {
   "cell_type": "code",
   "execution_count": 1,
   "metadata": {},
   "outputs": [],
   "source": [
    "import numpy as np\n",
    "\n",
    "\n",
    "class Perceptron(object):\n",
    "    \"\"\"Perceptron classifier. \"\"\"\n",
    "\n",
    "    def __init__(self, eta=0.01, n_iter=50, random_state=1):\n",
    "        \"\"\"\n",
    "        Perceptron classifier.\n",
    "        \n",
    "        :param eta: (float) Learning rate (between 0.0 and 1.0)\n",
    "        :param n_iter: (int) Passes over the training dataset\n",
    "        :param random_state: (int) Random number generator seed for random weight initialization.\n",
    "        \n",
    "        \"\"\"\n",
    "        self.eta = eta\n",
    "        self.n_iter = n_iter\n",
    "        self.random_state = random_state\n",
    "        \n",
    "        self.w_ = None\n",
    "        self.errors_ = None\n",
    "        \n",
    "    def fit(self, x, y):\n",
    "        \"\"\"\n",
    "        \n",
    "        Fit training data.\n",
    "        \n",
    "        :param x: {array-like, shape=[n_samples, n_features]} Training vectors, where n_samples is the number of\n",
    "        samples and n_features is the number of features.\n",
    "        :param y: {array-like, shape=n_samples} Target values.\n",
    "        :rtype: Perceptron\n",
    "        :return: self\n",
    "        \n",
    "        \"\"\"\n",
    "        rgen = np.random.RandomState(self.random_state)\n",
    "        self.w_ = rgen.normal(loc=0.0, scale=0.01, size=1 + x.shape[1])\n",
    "        \n",
    "        self.errors_ = []\n",
    "        \n",
    "        for _ in range(self.n_iter):\n",
    "            errors = 0\n",
    "            for xi, target in zip(x, y):\n",
    "                update = self.eta * (target - self.predict(xi))\n",
    "                self.w_[1:] += update * xi\n",
    "                self.w_[0] += update\n",
    "                errors += int(update != 0.0)\n",
    "            self.errors_.append(errors)\n",
    "        return self\n",
    "    \n",
    "    def net_input(self, x):\n",
    "        \"\"\"\n",
    "        \n",
    "        Calculate net input\n",
    "        \n",
    "        :param x: {array-like, shape=[n_samples, n_features]} Training vectors, where n_samples is the number of\n",
    "        samples and n_features is the number of features.\n",
    "        :return:\n",
    "        \"\"\"\n",
    "        \n",
    "        return np.dot(x, self.w_[1:]) + self.w_[0]\n",
    "    \n",
    "    def predict(self, x):\n",
    "        \"\"\"\n",
    "        Return class label after unit step\n",
    "        \n",
    "        :param x: {array-like, shape=[n_samples, n_features]} Training vectors, where n_samples is the number of\n",
    "        samples and n_features is the number of features.\n",
    "        :return:\n",
    "        \n",
    "        \"\"\"\n",
    "        return np.where(self.net_input(x) >= 0.0, 1, -1)"
   ]
  },
  {
   "cell_type": "markdown",
   "metadata": {},
   "source": [
    "### Training a perceptron model\n",
    "\n",
    "To test our perceptron implementation, we will load the two flower classes Setosa and Versicolor from the Iris dataset. Although the perceptron rule is not restricted to two dimensions, we will only consider the two features sepal length and petal length for visualization purposes. Also, we only chose the two flower classes Setosa and Versicolor for practical reasons."
   ]
  },
  {
   "cell_type": "code",
   "execution_count": 2,
   "metadata": {},
   "outputs": [
    {
     "data": {
      "text/html": [
       "<div>\n",
       "<style scoped>\n",
       "    .dataframe tbody tr th:only-of-type {\n",
       "        vertical-align: middle;\n",
       "    }\n",
       "\n",
       "    .dataframe tbody tr th {\n",
       "        vertical-align: top;\n",
       "    }\n",
       "\n",
       "    .dataframe thead th {\n",
       "        text-align: right;\n",
       "    }\n",
       "</style>\n",
       "<table border=\"1\" class=\"dataframe\">\n",
       "  <thead>\n",
       "    <tr style=\"text-align: right;\">\n",
       "      <th></th>\n",
       "      <th>0</th>\n",
       "      <th>1</th>\n",
       "      <th>2</th>\n",
       "      <th>3</th>\n",
       "      <th>4</th>\n",
       "    </tr>\n",
       "  </thead>\n",
       "  <tbody>\n",
       "    <tr>\n",
       "      <th>145</th>\n",
       "      <td>6.7</td>\n",
       "      <td>3.0</td>\n",
       "      <td>5.2</td>\n",
       "      <td>2.3</td>\n",
       "      <td>Iris-virginica</td>\n",
       "    </tr>\n",
       "    <tr>\n",
       "      <th>146</th>\n",
       "      <td>6.3</td>\n",
       "      <td>2.5</td>\n",
       "      <td>5.0</td>\n",
       "      <td>1.9</td>\n",
       "      <td>Iris-virginica</td>\n",
       "    </tr>\n",
       "    <tr>\n",
       "      <th>147</th>\n",
       "      <td>6.5</td>\n",
       "      <td>3.0</td>\n",
       "      <td>5.2</td>\n",
       "      <td>2.0</td>\n",
       "      <td>Iris-virginica</td>\n",
       "    </tr>\n",
       "    <tr>\n",
       "      <th>148</th>\n",
       "      <td>6.2</td>\n",
       "      <td>3.4</td>\n",
       "      <td>5.4</td>\n",
       "      <td>2.3</td>\n",
       "      <td>Iris-virginica</td>\n",
       "    </tr>\n",
       "    <tr>\n",
       "      <th>149</th>\n",
       "      <td>5.9</td>\n",
       "      <td>3.0</td>\n",
       "      <td>5.1</td>\n",
       "      <td>1.8</td>\n",
       "      <td>Iris-virginica</td>\n",
       "    </tr>\n",
       "  </tbody>\n",
       "</table>\n",
       "</div>"
      ],
      "text/plain": [
       "       0    1    2    3               4\n",
       "145  6.7  3.0  5.2  2.3  Iris-virginica\n",
       "146  6.3  2.5  5.0  1.9  Iris-virginica\n",
       "147  6.5  3.0  5.2  2.0  Iris-virginica\n",
       "148  6.2  3.4  5.4  2.3  Iris-virginica\n",
       "149  5.9  3.0  5.1  1.8  Iris-virginica"
      ]
     },
     "execution_count": 2,
     "metadata": {},
     "output_type": "execute_result"
    }
   ],
   "source": [
    "import pandas as pd\n",
    "\n",
    "# df = pd.read_csv('https://archive.ics.uci.edu/ml/machine-learning-databases/iris/iris.data', header=None) # on line\n",
    "df = pd.read_csv('datasets/iris.data', header=None) #off line\n",
    "df.tail()"
   ]
  },
  {
   "cell_type": "code",
   "execution_count": 3,
   "metadata": {},
   "outputs": [],
   "source": [
    "# extract the first 100 (50 for iris-setosa, 50 for iris-versicolor) and convert class labels\n",
    "import matplotlib.pyplot as plt\n",
    "import numpy as np\n",
    "\n",
    "# select setosa and vesicolor\n",
    "y = df.iloc[0:100, 4].values\n",
    "y = np.where(y == 'Iris-setosa', -1, 1)"
   ]
  },
  {
   "cell_type": "code",
   "execution_count": 4,
   "metadata": {},
   "outputs": [
    {
     "data": {
      "image/png": "[encoded data removed]",
      "text/plain": [
       "<Figure size 432x288 with 1 Axes>"
      ]
     },
     "metadata": {
      "needs_background": "light"
     },
     "output_type": "display_data"
    }
   ],
   "source": [
    "%matplotlib inline\n",
    "# ploting the dataset\n",
    "\n",
    "# extract sepal length and petal length\n",
    "x = df.iloc[0:100, [0, 2]].values\n",
    "plt.scatter(x[:50, 0], x[:50, 1], color='red', marker='o', label='setosa')\n",
    "plt.scatter(x[50:100, 0], x[50:100, 1], color='blue', marker='x', label='versicolor')\n",
    "plt.xlabel('sepal length [cm]')\n",
    "plt.ylabel('petal length [cm]')\n",
    "plt.legend(loc='upper left')\n",
    "plt.show()"
   ]
  },
  {
   "cell_type": "code",
   "execution_count": 5,
   "metadata": {},
   "outputs": [
    {
     "data": {
      "text/plain": [
       "<__main__.Perceptron at 0x7f075443add8>"
      ]
     },
     "execution_count": 5,
     "metadata": {},
     "output_type": "execute_result"
    }
   ],
   "source": [
    "# train the perceptron\n",
    "ppn = Perceptron(eta=0.1, n_iter=10)\n",
    "ppn.fit(x, y)"
   ]
  },
  {
   "cell_type": "code",
   "execution_count": 6,
   "metadata": {},
   "outputs": [
    {
     "data": {
      "image/png": "[encoded data removed]",
      "text/plain": [
       "<Figure size 432x288 with 1 Axes>"
      ]
     },
     "metadata": {
      "needs_background": "light"
     },
     "output_type": "display_data"
    }
   ],
   "source": [
    "# plot the misclassification error\n",
    "plt.plot(range(1, len(ppn.errors_) + 1), ppn.errors_, marker='o')\n",
    "plt.xlabel('Epochs')\n",
    "plt.ylabel('Number of updates')\n",
    "plt.show()"
   ]
  },
  {
   "cell_type": "code",
   "execution_count": 7,
   "metadata": {},
   "outputs": [],
   "source": [
    "# a function for ploting results\n",
    "from matplotlib.colors import ListedColormap\n",
    "\n",
    "\n",
    "def plot_decision_regions(x, y, classifier, resolution=0.02):\n",
    "    # setup marker generator and color map\n",
    "    markers = ('s', 'x', 'o', '^', 'v')\n",
    "    colors = ('red', 'blue', 'lightgreen', 'gray', 'cyan')\n",
    "    cmap = ListedColormap(colors[:len(np.unique(y))])\n",
    "\n",
    "    # plot the decision surface\n",
    "    x1_min, x1_max = x[:, 0].min() - 1, x[:, 0].max() + 1\n",
    "    x2_min, x2_max = x[:, 1].min() - 1, x[:, 1].max() + 1\n",
    "    xx1, xx2 = np.meshgrid(np.arange(x1_min, x1_max, resolution), np.arange(x2_min, x2_max, resolution))\n",
    "    z = classifier.predict(np.array([xx1.ravel(), xx2.ravel()]).T)\n",
    "    z = z.reshape(xx1.shape)\n",
    "\n",
    "    plt.contourf(xx1, xx2, z, alpha=0.3, cmap=cmap)\n",
    "    plt.xlim(xx1.min(), xx1.max())\n",
    "    plt.ylim(xx2.min(), xx2.max())\n",
    "\n",
    "    # plot class samples\n",
    "    for idx, cl in enumerate(np.unique(y)):\n",
    "        plt.scatter(x=x[y == cl, 0],\n",
    "                    y=x[y == cl, 1],\n",
    "                    alpha=0.8,\n",
    "                    c=colors[idx],\n",
    "                    marker=markers[idx],\n",
    "                    label=cl,\n",
    "                    edgecolors='black')"
   ]
  },
  {
   "cell_type": "code",
   "execution_count": 8,
   "metadata": {},
   "outputs": [
    {
     "data": {
      "image/png": "[encoded data removed]",
      "text/plain": [
       "<Figure size 432x288 with 1 Axes>"
      ]
     },
     "metadata": {
      "needs_background": "light"
     },
     "output_type": "display_data"
    }
   ],
   "source": [
    "plot_decision_regions(x, y, classifier=ppn)\n",
    "plt.xlabel('sepal length [cm]')\n",
    "plt.ylabel('petal length [cm]')\n",
    "plt.legend(loc='upper left')\n",
    "plt.show()"
   ]
  },
  {
   "cell_type": "code",
   "execution_count": null,
   "metadata": {},
   "outputs": [],
   "source": []
  }
 ],
 "metadata": {
  "kernelspec": {
   "display_name": "Python 3",
   "language": "python",
   "name": "python3"
  },
  "language_info": {
   "codemirror_mode": {
    "name": "ipython",
    "version": 3
   },
   "file_extension": ".py",
   "mimetype": "text/x-python",
   "name": "python",
   "nbconvert_exporter": "python",
   "pygments_lexer": "ipython3",
   "version": "3.7.2"
  }
 },
 "nbformat": 4,
 "nbformat_minor": 2
}
