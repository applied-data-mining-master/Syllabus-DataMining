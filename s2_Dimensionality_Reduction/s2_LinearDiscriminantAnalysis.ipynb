{
 "cells": [
  {
   "cell_type": "markdown",
   "metadata": {},
   "source": [
    "# Supervised data compression via linear discriminant analysis\n",
    "\n",
    "Linear Discriminant Analysis (LDA) can be used as a technique for feature extraction to increase the computational efficiency and reduce the degree of overfitting due to the curse of dimensionality in non-regularized models.\n",
    "\n",
    "Whereas PCA attempts to find the orthogonal component axes of maximum variance in a dataset, the goal in LDA is to find the feature subspace that optimizes class separability."
   ]
  },
  {
   "cell_type": "markdown",
   "metadata": {},
   "source": [
    "## Principal component analysis versus linear discriminant analysis\n",
    "\n",
    "The aim of both is to reduce the number of dimensions in a dataset, PCA is an unsupervised algorithm whereas LDA is supervised. We might think that LDA is superior, however PCA tends to result in better classification results in an image recognition task in certain cases.\n",
    "\n",
    "The following figure summarizes the concept of LDA for a two-class problem.\n",
    "\n",
    "<img src=\"images/lda_concept.jpeg\" alt=\"PCA orthogonal axes\" title=\"PCA orthogonal axes\" height=\"300\" width=\"450\">\n",
    "\n",
    "A linear discriminant, as shown on the x-axis (LD 1), would separate the two normal distributed classes well. Although the exemplary linear discriminant shown on the y-axis (LD 2) captures a lot of the variance in the dataset, it would fail as a good linear discriminant since it does not capture any of the class-discriminatory information.\n",
    "\n",
    "One assumption in LDA is that the data is normally distributed. Also, we assume that the classes have identical covariance matrices and that the samples are statistically independent of each other. However, even if one or more of those assumptions are (slightly) violated, LDA for dimensionality reduction can still work reasonably well "
   ]
  },
  {
   "cell_type": "markdown",
   "metadata": {},
   "source": [
    "### The inner working\n",
    "\n",
    "Before we dive into the code implementation, let's briefly summarize the main steps that are required to perform LDA:\n",
    "\n",
    "1. Standardize the $d$-dimensional dataset ($d$ is the number of features).\n",
    "2. For each class, compute the $d$-dimensional mean vector.\n",
    "3. Construct the between-class scatter matrix $S_B$ and the within-class scatter matrix $S_w$. \n",
    "4. Compute the eigenvectors and corresponding eigenvalues of the matrix $S_w^{-1} S_B$.\n",
    "5. Sort the eigenvalues by decreasing order to rank the corresponding eigenvectors.\n",
    "6. Choose the $k$ eigenvectors that correspond to the $k$ largest eigenvalues to construct a $d \\times k$-dimensional transformation matrix $W$; the eigenvectors are the columns of this matrix.\n",
    "7. Project the samples onto the new feature subspace using the transformation matrix $W$."
   ]
  },
  {
   "cell_type": "markdown",
   "metadata": {},
   "source": [
    "#### Computing the scatter matrices\n",
    "\n",
    "After load and standardized the features, proceed with the calculation of the mean vectors, which we will use to construct the within-class scatter matrix and between-class scatter matrix, respectively. Each mean vector $m_i$ stores the mean feature value $\\mu_m$ with respect to the samples of class **i**:\n",
    "\n",
    "\\begin{equation*}\n",
    "m_i = \\frac{1}{n_i} \\sum_{x \\in D_i}^c x_m\n",
    "\\end{equation*}\n",
    "\n",
    "This results in three mean vectors:\n",
    "\n",
    "\\begin{equation*}\n",
    "\\begin{matrix}\n",
    "m_i = \\begin{bmatrix}\n",
    "\\mu_i, alcohol \\\\\n",
    "\\mu_i, \\text{malic acid} \\\\\n",
    "\\vdots \\\\\n",
    "\\mu_i, proline\n",
    "\\end{bmatrix} & i \\in \\left\\{ 1, 2, 3 \\right\\} \\\\\n",
    "\\end{matrix}\n",
    "\\end{equation*}"
   ]
  },
  {
   "cell_type": "code",
   "execution_count": 3,
   "metadata": {},
   "outputs": [],
   "source": [
    "# load data\n",
    "import pandas as pd\n",
    "\n",
    "df_wine = pd.read_csv('https://archive.ics.uci.edu/ml/machine-learning-databases/wine/wine.data', header=None)   # \n",
    "# online\n",
    "# df = pd.read_csv('./data_sets/wine.data', header=None)    # offline"
   ]
  },
  {
   "cell_type": "code",
   "execution_count": 4,
   "metadata": {},
   "outputs": [],
   "source": [
    "# separate training and test data (70, 30)\n",
    "from sklearn.model_selection import train_test_split\n",
    "from sklearn.preprocessing import StandardScaler\n",
    "\n",
    "\n",
    "X, y = df_wine.iloc[:, 1:].values, df_wine.iloc[:, 0].values\n",
    "\n",
    "X_train, X_test, y_train, y_test = train_test_split(X, y, test_size=0.3, stratify=y, random_state=0)\n",
    "\n",
    "# standardize the features\n",
    "sc = StandardScaler()\n",
    "X_train_std = sc.fit_transform(X_train)\n",
    "X_test_std = sc.transform(X_test)"
   ]
  },
  {
   "cell_type": "code",
   "execution_count": 6,
   "metadata": {},
   "outputs": [
    {
     "name": "stdout",
     "output_type": "stream",
     "text": [
      "MV 1: [ 0.9066 -0.3497  0.3201 -0.7189  0.5056  0.8807  0.9589 -0.5516  0.5416\n",
      "  0.2338  0.5897  0.6563  1.2075]\n",
      "\n",
      "MV 2: [-0.8749 -0.2848 -0.3735  0.3157 -0.3848 -0.0433  0.0635 -0.0946  0.0703\n",
      " -0.8286  0.3144  0.3608 -0.7253]\n",
      "\n",
      "MV 3: [ 0.1992  0.866   0.1682  0.4148 -0.0451 -1.0286 -1.2876  0.8287 -0.7795\n",
      "  0.9649 -1.209  -1.3622 -0.4013]\n",
      "\n"
     ]
    }
   ],
   "source": [
    "import numpy as np\n",
    "\n",
    "\n",
    "np.set_printoptions(precision=4)\n",
    "mean_vecs = []\n",
    "for label in range(1, 4):\n",
    "    mean_vecs.append(np.mean(X_train_std[y_train==label], axis=0))\n",
    "    print('MV {}: {}\\n'.format(label, mean_vecs[label-1]))"
   ]
  },
  {
   "cell_type": "markdown",
   "metadata": {},
   "source": [
    "Using the mean vectors, we can now compute the within-class scatter matrix $S_w$:\n",
    "\n",
    "\\begin{equation*}\n",
    "S_w = \\sum_{i=1}^c S_i\n",
    "\\end{equation*}\n",
    "\n",
    "This is calculated by summing up the individual scatter matrices $S_i$ of each individual class $i$:\n",
    "\n",
    "\\begin{equation*}\n",
    "S_i = \\sum_{x \\in D_i}^c \\left( x - m_i \\right) \\left( x - m_i \\right)^T\n",
    "\\end{equation*}"
   ]
  },
  {
   "cell_type": "code",
   "execution_count": 4,
   "metadata": {},
   "outputs": [
    {
     "name": "stdout",
     "output_type": "stream",
     "text": [
      "Within-class scatter matrix: 13x13\n"
     ]
    },
    {
     "data": {
      "text/plain": [
       "array([[ 5.0722e+01,  3.1007e+00, -7.9323e+00, -5.7848e+00, -2.8879e+00,\n",
       "         7.8990e+00,  2.4543e+00,  9.3932e-01,  9.0781e-01,  1.5486e+01,\n",
       "         7.0293e+00, -1.8659e+00,  4.9370e+00],\n",
       "       [ 3.1007e+00,  9.0179e+01,  4.7074e+00,  1.4750e+01, -1.0900e+01,\n",
       "        -8.8059e-02,  9.7797e-01,  8.4547e+00,  4.4732e+00, -1.4494e+01,\n",
       "        -2.0361e+01,  3.5876e+00, -1.1176e+01],\n",
       "       [-7.9323e+00,  4.7074e+00,  1.1189e+02,  7.0126e+01,  2.2213e+01,\n",
       "         1.5505e+01,  1.4856e+01,  2.0454e+01, -2.3344e+00,  1.3787e+00,\n",
       "         5.6585e+00,  8.1917e+00,  3.2570e-01],\n",
       "       [-5.7848e+00,  1.4750e+01,  7.0126e+01,  9.2147e+01,  1.2485e+01,\n",
       "         6.2091e+00,  6.2783e+00,  1.2735e+01, -4.7597e+00, -4.1511e+00,\n",
       "         1.1779e+00,  1.1633e+01, -4.5296e+00],\n",
       "       [-2.8879e+00, -1.0900e+01,  2.2213e+01,  1.2485e+01,  1.0605e+02,\n",
       "         1.0950e+01,  5.2875e+00, -2.1136e+01,  1.3076e+01,  5.9930e+00,\n",
       "         8.4568e+00, -5.3128e-01,  1.1845e+01],\n",
       "       [ 7.8990e+00, -8.8059e-02,  1.5505e+01,  6.2091e+00,  1.0950e+01,\n",
       "         5.7194e+01,  2.8971e+01, -7.4850e+00,  3.0810e+01,  1.5516e+01,\n",
       "         6.6816e-01,  1.9382e+01,  6.3808e+00],\n",
       "       [ 2.4543e+00,  9.7797e-01,  1.4856e+01,  6.2783e+00,  5.2875e+00,\n",
       "         2.8971e+01,  3.1388e+01, -1.0236e+01,  2.5069e+01,  1.4922e+01,\n",
       "        -1.2394e+00,  1.2737e+01,  2.7636e+00],\n",
       "       [ 9.3932e-01,  8.4547e+00,  2.0454e+01,  1.2735e+01, -2.1136e+01,\n",
       "        -7.4850e+00, -1.0236e+01,  8.8416e+01, -1.5290e+01, -6.5190e-01,\n",
       "         2.8315e+00, -1.7076e+01, -7.0906e+00],\n",
       "       [ 9.0781e-01,  4.4732e+00, -2.3344e+00, -4.7597e+00,  1.3076e+01,\n",
       "         3.0810e+01,  2.5069e+01, -1.5290e+01,  9.1676e+01,  2.2137e+01,\n",
       "        -5.9150e+00,  1.1376e+01,  5.9764e+00],\n",
       "       [ 1.5486e+01, -1.4494e+01,  1.3787e+00, -4.1511e+00,  5.9930e+00,\n",
       "         1.5516e+01,  1.4922e+01, -6.5190e-01,  2.2137e+01,  5.6702e+01,\n",
       "        -1.0507e+01, -5.3682e+00,  1.0706e+01],\n",
       "       [ 7.0293e+00, -2.0361e+01,  5.6585e+00,  1.1779e+00,  8.4568e+00,\n",
       "         6.6816e-01, -1.2394e+00,  2.8315e+00, -5.9150e+00, -1.0507e+01,\n",
       "         5.6566e+01,  3.2692e+00,  9.6829e+00],\n",
       "       [-1.8659e+00,  3.5876e+00,  8.1917e+00,  1.1633e+01, -5.3128e-01,\n",
       "         1.9382e+01,  1.2737e+01, -1.7076e+01,  1.1376e+01, -5.3682e+00,\n",
       "         3.2692e+00,  3.8599e+01, -4.6404e+00],\n",
       "       [ 4.9370e+00, -1.1176e+01,  3.2570e-01, -4.5296e+00,  1.1845e+01,\n",
       "         6.3808e+00,  2.7636e+00, -7.0906e+00,  5.9764e+00,  1.0706e+01,\n",
       "         9.6829e+00, -4.6404e+00,  3.2604e+01]])"
      ]
     },
     "execution_count": 4,
     "metadata": {},
     "output_type": "execute_result"
    }
   ],
   "source": [
    "d = 13  # number of features\n",
    "S_W = np.zeros((d, d))\n",
    "for label, mv in zip(range(1, 4), mean_vecs):\n",
    "    class_scatter = np.zeros((d, d))\n",
    "    for row in X_train_std[y_train == label]:\n",
    "        row, mv = row.reshape(d, 1), mv.reshape(d, 1)\n",
    "        class_scatter += (row - mv).dot((row - mv).T)\n",
    "    S_W += class_scatter\n",
    "    \n",
    "print('Within-class scatter matrix: {}x{}'.format(S_W.shape[0], S_W.shape[1]))\n",
    "S_W"
   ]
  },
  {
   "cell_type": "markdown",
   "metadata": {},
   "source": [
    "The assumption that we are making when we are computing the scatter matrices is that the class labels in the training set are uniformly distributed. However, if we print the number of class labels, we see that this assumption is violated:"
   ]
  },
  {
   "cell_type": "code",
   "execution_count": 5,
   "metadata": {},
   "outputs": [
    {
     "name": "stdout",
     "output_type": "stream",
     "text": [
      "Class label distribution: [41 50 33]\n"
     ]
    }
   ],
   "source": [
    "print('Class label distribution: {}'.format(np.bincount(y_train)[1:]))"
   ]
  },
  {
   "cell_type": "markdown",
   "metadata": {},
   "source": [
    "Thus, we want to scale the individual scatter matrices $S_i$ before we sum them up as scatter matrix $S_w$. When we divide the scatter matrices by the number of class-samples $n_i$, we can see that computing the scatter matrix is in fact the same as computing the covariance matrix $\\Sigma_i$ —the covariance matrix is a normalized version of the scatter matrix:\n",
    "\n",
    "\\begin{equation*}\n",
    "\\Sigma_i = \\frac{1}{n_i}S_w = \\frac{1}{n_i} \\sum_{x \\in D_i}^c \\left( x - m_i \\right) \\left( x - m_i \\right)^T\n",
    "\\end{equation*}"
   ]
  },
  {
   "cell_type": "code",
   "execution_count": 6,
   "metadata": {},
   "outputs": [
    {
     "name": "stdout",
     "output_type": "stream",
     "text": [
      "Within-class scatter matrix: 13x13\n"
     ]
    },
    {
     "data": {
      "text/plain": [
       "array([[ 1.2448,  0.0967, -0.1276, -0.1105, -0.0726,  0.2374,  0.0753,\n",
       "         0.0231,  0.1102,  0.4261,  0.1411, -0.0155,  0.1224],\n",
       "       [ 0.0967,  2.2666,  0.1168,  0.3517, -0.2622, -0.0467, -0.0186,\n",
       "         0.2194,  0.0187, -0.3939, -0.4167,  0.0787, -0.2492],\n",
       "       [-0.1276,  0.1168,  2.6024,  1.6442,  0.5364,  0.3947,  0.3191,\n",
       "         0.4553, -0.0353,  0.06  ,  0.167 ,  0.1987, -0.0081],\n",
       "       [-0.1105,  0.3517,  1.6442,  2.1604,  0.325 ,  0.1535,  0.1222,\n",
       "         0.273 , -0.0824, -0.068 ,  0.0336,  0.2548, -0.1201],\n",
       "       [-0.0726, -0.2622,  0.5364,  0.325 ,  2.4397,  0.2384,  0.1433,\n",
       "        -0.5166,  0.2566,  0.1445,  0.1777, -0.0058,  0.2509],\n",
       "       [ 0.2374, -0.0467,  0.3947,  0.1535,  0.2384,  1.352 ,  0.6416,\n",
       "        -0.0781,  0.7644,  0.4392,  0.0177,  0.4359,  0.1554],\n",
       "       [ 0.0753, -0.0186,  0.3191,  0.1222,  0.1433,  0.6416,  0.6968,\n",
       "        -0.2588,  0.5765,  0.3851, -0.0408,  0.2525,  0.0748],\n",
       "       [ 0.0231,  0.2194,  0.4553,  0.273 , -0.5166, -0.0781, -0.2588,\n",
       "         2.1795, -0.2801, -0.0363,  0.1208, -0.332 , -0.1485],\n",
       "       [ 0.1102,  0.0187, -0.0353, -0.0824,  0.2566,  0.7644,  0.5765,\n",
       "        -0.2801,  2.1792,  0.6795, -0.1815,  0.2323,  0.1568],\n",
       "       [ 0.4261, -0.3939,  0.06  , -0.068 ,  0.1445,  0.4392,  0.3851,\n",
       "        -0.0363,  0.6795,  1.6141, -0.3417, -0.1241,  0.2666],\n",
       "       [ 0.1411, -0.4167,  0.167 ,  0.0336,  0.1777,  0.0177, -0.0408,\n",
       "         0.1208, -0.1815, -0.3417,  1.3119,  0.0917,  0.2232],\n",
       "       [-0.0155,  0.0787,  0.1987,  0.2548, -0.0058,  0.4359,  0.2525,\n",
       "        -0.332 ,  0.2323, -0.1241,  0.0917,  0.8714, -0.1167],\n",
       "       [ 0.1224, -0.2492, -0.0081, -0.1201,  0.2509,  0.1554,  0.0748,\n",
       "        -0.1485,  0.1568,  0.2666,  0.2232, -0.1167,  0.7862]])"
      ]
     },
     "execution_count": 6,
     "metadata": {},
     "output_type": "execute_result"
    }
   ],
   "source": [
    "d = 13  # number of features\n",
    "S_W = np.zeros((d, d))\n",
    "for label, mv in zip(range(1, 4), mean_vecs):\n",
    "    class_scatter = np.cov(X_train_std[y_train == label].T)\n",
    "    S_W += class_scatter\n",
    "    \n",
    "print('Within-class scatter matrix: {}x{}'.format(S_W.shape[0], S_W.shape[1]))\n",
    "S_W"
   ]
  },
  {
   "cell_type": "markdown",
   "metadata": {},
   "source": [
    "After we computed the scaled within-class scatter matrix (or covariance matrix), we can move on to the next step and compute the between-class scatter matrix $S_B$:\n",
    "\n",
    "\\begin{equation*}\n",
    "S_B = \\sum_{i=1}^c n_i \\left( m_i - m \\right) \\left( m_i - m \\right)^T\n",
    "\\end{equation*}\n",
    "\n",
    "Here, $m$ is the overall mean that is computed, including samples from all classes:"
   ]
  },
  {
   "cell_type": "code",
   "execution_count": 13,
   "metadata": {},
   "outputs": [
    {
     "name": "stdout",
     "output_type": "stream",
     "text": [
      "Between-class scatter matrix: 13x13\n"
     ]
    }
   ],
   "source": [
    "mean_overall = np.mean(X_train_std, axis=0)\n",
    "d = 13  # number of features\n",
    "S_B = np.zeros((d, d))\n",
    "for i, mean_vec in enumerate(mean_vecs):\n",
    "    n = X_train[y_train == i + 1, :].shape[0]\n",
    "    mean_vec = mean_vec.reshape(d, 1)   # make column vector\n",
    "    mean_overall = mean_overall.reshape(d, 1)\n",
    "    S_B += n * (mean_vec - mean_overall).dot((mean_vec - mean_overall).T)\n",
    "\n",
    "print('Between-class scatter matrix: {}x{}'.format(S_B.shape[0], S_B.shape[1]))"
   ]
  },
  {
   "cell_type": "markdown",
   "metadata": {},
   "source": [
    "## Selecting linear discriminants for the new feature subspace\n",
    "\n",
    "The remaining steps of the LDA are similar to the steps of the PCA. However, instead of performing the eigendecomposition on the covariance matrix, we solve the generalized eigenvalue problem of the matrix $S_w^{-1} S_B$:"
   ]
  },
  {
   "cell_type": "code",
   "execution_count": 14,
   "metadata": {},
   "outputs": [],
   "source": [
    "eigen_vals, eigen_vecs = np.linalg.eig(np.linalg.inv(S_W).dot(S_B))"
   ]
  },
  {
   "cell_type": "code",
   "execution_count": 15,
   "metadata": {},
   "outputs": [
    {
     "name": "stdout",
     "output_type": "stream",
     "text": [
      "Eigenvalues in descending orde:\n",
      "\n",
      "349.617808905994\n",
      "172.76152218979396\n",
      "3.757738185175197e-14\n",
      "3.757738185175197e-14\n",
      "2.842170943040401e-14\n",
      "1.891112347433115e-14\n",
      "1.891112347433115e-14\n",
      "1.1127858294960469e-14\n",
      "1.1127858294960469e-14\n",
      "6.78305538162405e-15\n",
      "5.3244850056953785e-15\n",
      "5.3244850056953785e-15\n",
      "1.8570370341745825e-15\n"
     ]
    }
   ],
   "source": [
    "# sort the eigenvalues in descending order\n",
    "eigen_pairs = [(np.abs(eigen_vals[i]), eigen_vecs[:, i]) for i in range(len(eigen_vals))]\n",
    "eigen_pairs = sorted(eigen_pairs, key=lambda k: k[0], reverse=True)\n",
    "\n",
    "print('Eigenvalues in descending orde:\\n')\n",
    "for eigen_val in eigen_pairs:\n",
    "    print(eigen_val[0])"
   ]
  },
  {
   "cell_type": "markdown",
   "metadata": {},
   "source": [
    "In LDA, the number of linear discriminants is at most $c−1$, where c is the number of class labels, since the in-between scatter matrix $S_B$ is the sum of c matrices with rank 1 or less. We can indeed see that we only have two nonzero eigenvalues (the eigenvalues 3-14 are not exactly zero, but this is due to the floating point arithmetic in NumPy)."
   ]
  },
  {
   "cell_type": "markdown",
   "metadata": {},
   "source": [
    "To measure how much of the class-discriminatory information is captured by the linear discriminants (eigenvectors), let's plot the linear discriminants by decreasing eigenvalues similar to the explained variance plot that we created in the PCA section."
   ]
  },
  {
   "cell_type": "code",
   "execution_count": 17,
   "metadata": {},
   "outputs": [
    {
     "data": {
      "image/png": "[encoded data removed]",
      "text/plain": [
       "<Figure size 432x288 with 1 Axes>"
      ]
     },
     "metadata": {
      "needs_background": "light"
     },
     "output_type": "display_data"
    }
   ],
   "source": [
    "import matplotlib.pyplot as plt\n",
    "\n",
    "\n",
    "tot = sum(eigen_vals.real)\n",
    "discr = [(i / tot) for i in sorted(eigen_vals.real, reverse=True)]\n",
    "cum_discr = np.cumsum(discr)\n",
    "\n",
    "plt.bar(range(1, 14), discr, alpha=0.5, align='center', label='individual \"discriminability\"')\n",
    "plt.step(range(1, 14), cum_discr, where='mid', label='cumulative \"discriminability\"')\n",
    "plt.ylabel('\"discriminability\" ratio')\n",
    "plt.xlabel('Linear Discriminats')\n",
    "plt.ylim([-0.1, 1.1])\n",
    "plt.legend(loc='best')\n",
    "plt.show()"
   ]
  },
  {
   "cell_type": "markdown",
   "metadata": {},
   "source": [
    "Let's now stack the two most discriminative eigenvector columns to create the transformation matrix $W$:"
   ]
  },
  {
   "cell_type": "code",
   "execution_count": 18,
   "metadata": {},
   "outputs": [
    {
     "name": "stdout",
     "output_type": "stream",
     "text": [
      "Matrix W:\n",
      " [[-0.1481 -0.4092]\n",
      " [ 0.0908 -0.1577]\n",
      " [-0.0168 -0.3537]\n",
      " [ 0.1484  0.3223]\n",
      " [-0.0163 -0.0817]\n",
      " [ 0.1913  0.0842]\n",
      " [-0.7338  0.2823]\n",
      " [-0.075  -0.0102]\n",
      " [ 0.0018  0.0907]\n",
      " [ 0.294  -0.2152]\n",
      " [-0.0328  0.2747]\n",
      " [-0.3547 -0.0124]\n",
      " [-0.3915 -0.5958]]\n"
     ]
    }
   ],
   "source": [
    "w = np.hstack((eigen_pairs[0][1][:, np.newaxis].real, eigen_pairs[1][1][:, np.newaxis].real))\n",
    "print('Matrix W:\\n', w)"
   ]
  },
  {
   "cell_type": "markdown",
   "metadata": {},
   "source": [
    "## Projecting samples onto the new feature space\n",
    "\n",
    "Using the transformation matrix $W$ that we created in the previous subsection, we can now transform the training dataset by multiplying the matrices:\n",
    "\n",
    "\\begin{equation*}\n",
    "X^{\\prime} = XW\n",
    "\\end{equation*}"
   ]
  },
  {
   "cell_type": "code",
   "execution_count": 19,
   "metadata": {},
   "outputs": [
    {
     "data": {
      "image/png": "[encoded data removed]",
      "text/plain": [
       "<Figure size 432x288 with 1 Axes>"
      ]
     },
     "metadata": {
      "needs_background": "light"
     },
     "output_type": "display_data"
    }
   ],
   "source": [
    "# Projecting samples onto the new feature space\n",
    "X_train_lda = X_train_std.dot(w)\n",
    "colors = ['r', 'b', 'g']\n",
    "markers = ['s', 'x', 'o']\n",
    "for l, c, m in zip(np.unique(y_train), colors, markers):\n",
    "    plt.scatter(X_train_lda[y_train==l, 0], X_train_lda[y_train==l, 1] * (-1), c=c, label=l, marker=m)\n",
    "    \n",
    "plt.xlabel('LD 1')\n",
    "plt.ylabel('LD 2')\n",
    "plt.legend(loc='lower right')\n",
    "plt.show()"
   ]
  },
  {
   "cell_type": "markdown",
   "metadata": {},
   "source": [
    "## LDA via scikit-learn\n",
    "\n",
    "Now, let's look at the LDA class implemented in scikit-learn:"
   ]
  },
  {
   "cell_type": "code",
   "execution_count": 8,
   "metadata": {},
   "outputs": [
    {
     "data": {
      "text/plain": [
       "array([[ 2.4248e+00, -2.3695e-01,  1.1333e+00, -2.1404e+00,  3.4789e-01,\n",
       "        -1.6836e+00,  4.6958e+00,  6.2491e-01, -2.6667e-01, -1.8717e+00,\n",
       "        -5.1262e-01,  2.6236e+00,  4.8543e+00],\n",
       "       [-1.7951e+00, -7.8860e-01, -1.5198e+00,  1.3658e+00, -2.8126e-01,\n",
       "         3.3542e-01,  1.2701e+00, -1.0387e-02,  3.1380e-01, -1.2003e+00,\n",
       "         1.0646e+00, -2.2602e-01, -2.5704e+00],\n",
       "       [-2.9280e-01,  1.4892e+00,  8.9477e-01,  5.8989e-01, -6.0718e-03,\n",
       "         1.5835e+00, -7.7587e+00, -7.6067e-01, -1.4414e-01,  4.1442e+00,\n",
       "        -9.7618e-01, -2.9172e+00, -2.1366e+00]])"
      ]
     },
     "execution_count": 8,
     "metadata": {},
     "output_type": "execute_result"
    }
   ],
   "source": [
    "# LDA via scikit-learn\n",
    "from sklearn.discriminant_analysis import LinearDiscriminantAnalysis as LDA\n",
    "\n",
    "lda = LDA(n_components=2)\n",
    "X_train_lda = lda.fit_transform(X_train_std, y_train)\n",
    "lda.coef_"
   ]
  },
  {
   "cell_type": "code",
   "execution_count": 23,
   "metadata": {},
   "outputs": [
    {
     "name": "stderr",
     "output_type": "stream",
     "text": [
      "/home/raziel/.virtualenvs/PythonMachineLearning/lib/python3.6/site-packages/sklearn/linear_model/logistic.py:432: FutureWarning: Default solver will be changed to 'lbfgs' in 0.22. Specify a solver to silence this warning.\n",
      "  FutureWarning)\n"
     ]
    },
    {
     "data": {
      "image/png": "[encoded data removed]",
      "text/plain": [
       "<Figure size 432x288 with 1 Axes>"
      ]
     },
     "metadata": {
      "needs_background": "light"
     },
     "output_type": "display_data"
    }
   ],
   "source": [
    "# ler's see how it works with logistic regression classifier\n",
    "from sklearn.linear_model import LogisticRegression\n",
    "from plot_regions import plot_decision_regions\n",
    "\n",
    "lr = LogisticRegression(multi_class='auto')\n",
    "lr = lr.fit(X_train_lda, y_train)\n",
    "plot_decision_regions(X_train_lda, y_train, classifier=lr)\n",
    "plt.xlabel('LD 1')\n",
    "plt.ylabel('LD 2')\n",
    "plt.legend(loc='lower left')\n",
    "plt.show()"
   ]
  },
  {
   "cell_type": "markdown",
   "metadata": {},
   "source": [
    "By lowering the regularization strength, we could probably shift the decision boundaries so that the logistic regression model classifies all samples in the training dataset correctly. However, and more importantly, let us take a look at the results on the test set:"
   ]
  },
  {
   "cell_type": "code",
   "execution_count": 24,
   "metadata": {},
   "outputs": [
    {
     "data": {
      "image/png": "[encoded data removed]",
      "text/plain": [
       "<Figure size 432x288 with 1 Axes>"
      ]
     },
     "metadata": {
      "needs_background": "light"
     },
     "output_type": "display_data"
    }
   ],
   "source": [
    "X_test_lda = lda.transform(X_test_std)\n",
    "plot_decision_regions(X_test_lda, y_test, classifier=lr)\n",
    "plt.xlabel('LD 1')\n",
    "plt.ylabel('LD 2')\n",
    "plt.legend(loc='lower left')\n",
    "plt.show()"
   ]
  },
  {
   "cell_type": "code",
   "execution_count": null,
   "metadata": {},
   "outputs": [],
   "source": []
  }
 ],
 "metadata": {
  "kernelspec": {
   "display_name": "Python 3",
   "language": "python",
   "name": "python3"
  },
  "language_info": {
   "codemirror_mode": {
    "name": "ipython",
    "version": 3
   },
   "file_extension": ".py",
   "mimetype": "text/x-python",
   "name": "python",
   "nbconvert_exporter": "python",
   "pygments_lexer": "ipython3",
   "version": "3.7.2"
  }
 },
 "nbformat": 4,
 "nbformat_minor": 2
}
