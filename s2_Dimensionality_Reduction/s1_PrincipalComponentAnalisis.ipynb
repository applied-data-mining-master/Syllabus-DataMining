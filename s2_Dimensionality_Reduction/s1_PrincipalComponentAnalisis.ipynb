{
 "cells": [
  {
   "cell_type": "markdown",
   "metadata": {},
   "source": [
    "# Compressing Data via Dimensionality Reduction\n",
    "\n",
    "An alternative approach to feature selection for dimensionality reduction is **feature extraction**. *Data compression* is an important topic in machine learning, and it helps us to store and analyze the increasing amounts of data that are produced and collected in the modern age of technology."
   ]
  },
  {
   "cell_type": "markdown",
   "metadata": {},
   "source": [
    "## Unsupervised dimensionality reduction via principal component analysis\n",
    "\n",
    "Similar to feature selection, we can use different feature extraction techniques to reduce the number of features in a dataset. The difference between feature selection and feature extraction is that while we maintain the original features when we used feature selection algorithms, such as sequential backward selection, we use feature extraction to transform or project the data onto a new feature space. In the context of dimensionality reduction, feature extraction can be understood as an approach to data compression with the goal of maintaining most of the relevant information. \n",
    "\n",
    "Popular applications of PCA include exploratory data analyses and de-noising of signals in stock market trading, and the analysis of genome data and gene expression levels in the field of bioinformatics."
   ]
  },
  {
   "cell_type": "markdown",
   "metadata": {},
   "source": [
    "### Principal component analysis\n",
    "\n",
    "PCA aims to find the directions of maximum variance in high-dimensional data and projects it onto a new subspace with equal or fewer dimensions than the original one. The orthogonal axes (principal components) of the new subspace can be interpreted as the directions of maximum variance given the constraint that the new feature axes are orthogonal to each other, as illustrated in the following figure:\n",
    "\n",
    "<img src=\"images/pca_orthogonal.jpeg\" alt=\"PCA orthogonal axes\" title=\"PCA orthogonal axes\" height=\"300\" width=\"450\">"
   ]
  },
  {
   "cell_type": "markdown",
   "metadata": {},
   "source": [
    "If we use PCA for dimensionality reduction, we construct a $d \\times k$–dimensional transformation matrix $W$ that allows us to map a sample vector $x$ onto a new $k$–dimensional feature subspace that has fewer dimensions than the original d–dimensional feature space:\n",
    "\n",
    "\\begin{equation*}\n",
    "\\begin{matrix}\n",
    "x = \\left[ x_1, x_2, \\dots{}, x_d \\right], & x \\in \\mathbb{R}^d \\\\\n",
    "\\downarrow xW, & W \\in \\mathbb{R}^{d \\times k} \\\\\n",
    "z = \\left[ z_1, z_2, \\dots, z_k \\right], & z \\in \\mathbb{R}^k\n",
    "\\end{matrix}\n",
    "\\end{equation*}\n",
    "\n",
    "As a result of transforming the original d-dimensional data onto this new k-dimensional subspace (typically k << d), the first principal component will have the largest possible variance, and all consequent principal components will have the largest variance given the constraint that these components are uncorrelated (orthogonal) to the other principal components—even if the input features are correlated, the resulting principal components will be mutually orthogonal (uncorrelated). Note that the PCA directions are highly sensitive to data scaling, and we need to standardize the features prior to PCA if the features were measured on different scales and we want to assign equal importance to all features."
   ]
  },
  {
   "cell_type": "markdown",
   "metadata": {},
   "source": [
    " Let's summarize the approach in a few simple steps:\n",
    " \n",
    " 1. Standardize the $d$-dimensional dataset.\n",
    " 2. Construct the covariance matrix.\n",
    " 3. Decompose the covariance matrix into its eigenvectors and eigenvalues.\n",
    " 4. Sort the eigenvalues by decreasing order to rank the corresponding eigenvectors.\n",
    " 5. Select $k$ eigenvectors which correspond to the $k$ largest eigenvalues, where $k$ is the dimensionality of the new feature subspace ($k \\leq d$). \n",
    " 6. Construct a projection matrix $W$ from the \"top\" $k$ eigenvectors.\n",
    " 7. Transform the $d$-dimensional input dataset $X$ using the projection matrix $W$ to obtain the new $k$-dimensional feature subspace."
   ]
  },
  {
   "cell_type": "markdown",
   "metadata": {},
   "source": [
    "### Extracting the principal components step by step"
   ]
  },
  {
   "cell_type": "code",
   "execution_count": 1,
   "metadata": {},
   "outputs": [
    {
     "name": "stdout",
     "output_type": "stream",
     "text": [
      "<class 'pandas.core.frame.DataFrame'>\n",
      "RangeIndex: 178 entries, 0 to 177\n",
      "Data columns (total 14 columns):\n",
      "0     178 non-null int64\n",
      "1     178 non-null float64\n",
      "2     178 non-null float64\n",
      "3     178 non-null float64\n",
      "4     178 non-null float64\n",
      "5     178 non-null int64\n",
      "6     178 non-null float64\n",
      "7     178 non-null float64\n",
      "8     178 non-null float64\n",
      "9     178 non-null float64\n",
      "10    178 non-null float64\n",
      "11    178 non-null float64\n",
      "12    178 non-null float64\n",
      "13    178 non-null int64\n",
      "dtypes: float64(11), int64(3)\n",
      "memory usage: 19.5 KB\n"
     ]
    }
   ],
   "source": [
    "# load the wine dataset\n",
    "import pandas as pd\n",
    "\n",
    "df_wine = pd.read_csv('https://archive.ics.uci.edu/ml/machine-learning-databases/wine/wine.data', header=None)   # \n",
    "df_wine.info()\n",
    "# online\n",
    "# df = pd.read_csv('./data_sets/wine.data', header=None)    # offline"
   ]
  },
  {
   "cell_type": "code",
   "execution_count": 3,
   "metadata": {},
   "outputs": [],
   "source": [
    "# separate training and test data (70, 30)\n",
    "from sklearn.model_selection import train_test_split\n",
    "from sklearn.preprocessing import StandardScaler\n",
    "\n",
    "\n",
    "X, y = df_wine.iloc[:, 1:].values, df_wine.iloc[:, 0].values\n",
    "\n",
    "X_train, X_test, y_train, y_test = train_test_split(X, y, test_size=0.3, stratify=y, random_state=0)\n",
    "\n",
    "# standardize the features\n",
    "sc = StandardScaler()\n",
    "X_train_std = sc.fit_transform(X_train)\n",
    "X_test_std = sc.transform(X_test)"
   ]
  },
  {
   "cell_type": "markdown",
   "metadata": {},
   "source": [
    "After completing the mandatory preprocessing by executing the preceding code, let's advance to the second step: constructing the covariance matrix. The symmetric $d \\times d$-dimensional covariance matrix, where $d$ is the number of dimensions in the dataset, stores the pairwise covariances between the different features. For example, the covariance between two features and on the population level can be calculated via the following equation:\n",
    "\n",
    "\\begin{equation*}\n",
    "\\sigma_{jk} = \\frac{1}{n} \\sum_{i=1}^n \\left( x_j^{(i)} - \\mu_j \\right) \\left( x_k^{(i)} - \\mu_k \\right)\n",
    "\\end{equation*}\n",
    "\n",
    "Here, $\\mu_j$ and $\\mu_k$ are the sample means of features $j$ and $k$, respectively. Note that the sample means are zero if we standardized the dataset. A positive covariance between two features indicates that the features increase or decrease together, whereas a negative covariance indicates that the features vary in opposite directions. For example, the covariance matrix of three features can then be written as follows (note that $Sigma$ stands for the Greek uppercase letter sigma, which is not to be confused with the *sum* symbol):\n",
    "\n",
    "\\begin{equation*}\n",
    "\\Sigma = \\begin{bmatrix}\n",
    "\\sigma_1^2 & \\sigma_{12} & \\sigma_{13} \\\\\n",
    "\\sigma_{21} & \\sigma_2^2 & \\sigma_{23} \\\\\n",
    "\\sigma_{31} & \\sigma_{32} & \\sigma_3^2\n",
    "\\end{bmatrix}\n",
    "\\end{equation*}\n",
    "\n",
    "The eigenvectors of the covariance matrix represent the principal components (the directions of maximum variance), whereas the corresponding eigenvalues will define their magnitude. In the case of the Wine dataset, we would obtain 13 eigenvectors and eigenvalues from the $13 \\times 13$-dimensional covariance matrix."
   ]
  },
  {
   "cell_type": "markdown",
   "metadata": {},
   "source": [
    "For the third step, let's obtain the eigenpairs of the covariance matrix. As we remember from our introductory linear algebra classes, an eigenvector v satisfies the following condition:\n",
    "\n",
    "\\begin{equation*}\n",
    "\\Sigma{}v = \\lambda{}v\n",
    "\\end{equation*}\n",
    "\n",
    "Here, $\\lambda$ is a scalar: the eigenvalue."
   ]
  },
  {
   "cell_type": "code",
   "execution_count": 4,
   "metadata": {},
   "outputs": [
    {
     "name": "stdout",
     "output_type": "stream",
     "text": [
      "\n",
      "Eigenvalues [4.84274532 2.41602459 1.54845825 0.96120438 0.84166161 0.6620634\n",
      " 0.51828472 0.34650377 0.3131368  0.10754642 0.21357215 0.15362835\n",
      " 0.1808613 ]\n"
     ]
    }
   ],
   "source": [
    "import numpy as np\n",
    "\n",
    "\n",
    "cov_mat = np.cov(X_train_std.T)\n",
    "eigen_vals, eigen_vecs = np.linalg.eig(cov_mat)\n",
    "print('\\nEigenvalues {}'.format(eigen_vals))"
   ]
  },
  {
   "cell_type": "markdown",
   "metadata": {},
   "source": [
    "### Total and explained variance\n",
    "\n",
    "Since we want to reduce the dimensionality of our dataset by compressing it onto a new feature subspace, we only select the subset of the eigenvectors (principal components) that contains most of the information (variance). The eigenvalues define the magnitude of the eigenvectors, so we have to sort the eigenvalues by decreasing magnitude; we are interested in the top k eigenvectors based on the values of their corresponding eigenvalues. But before we collect those $k$ most informative eigenvectors, let us plot the **variance explained** ratios of the eigenvalues. The variance explained ratio of an eigenvalue $\\lambda_j$ is simply the fraction of an eigenvalue $\\lambda_j$ and the total sum of the eigenvalues:\n",
    "\n",
    "\\begin{equation*}\n",
    "\\frac{\\lambda_j}{\\sum_{j=1}^d \\lambda_j}\n",
    "\\end{equation*}\n",
    "\n"
   ]
  },
  {
   "cell_type": "code",
   "execution_count": 6,
   "metadata": {},
   "outputs": [
    {
     "data": {
      "image/png": "[encoded data removed]",
      "text/plain": [
       "<Figure size 432x288 with 1 Axes>"
      ]
     },
     "metadata": {
      "needs_background": "light"
     },
     "output_type": "display_data"
    }
   ],
   "source": [
    "# with cumsum we can calculate the cumulative sum of expained variances\n",
    "\n",
    "import matplotlib.pyplot as plt\n",
    "\n",
    "tot = sum(eigen_vals)\n",
    "var_exp = [(i / tot) for i in sorted(eigen_vals, reverse=True)]\n",
    "cum_var_exp = np.cumsum(var_exp)\n",
    "\n",
    "plt.bar(range(1, 14), var_exp, alpha=0.5, align='center', label='individual explained variance')\n",
    "plt.step(range(1, 14), cum_var_exp, where='mid', label='cumilative explained variance')\n",
    "plt.ylabel('Explained variance ratio')\n",
    "plt.xlabel('Principal component index')\n",
    "plt.legend(loc='best')\n",
    "plt.show()"
   ]
  },
  {
   "cell_type": "markdown",
   "metadata": {},
   "source": [
    "The explained variance plot reminds us of the feature importance values that we computed via random forests, we should remind ourselves that PCA is an unsupervised method, which means that information about the class labels is ignored. Whereas a random forest uses the class membership information to compute the node impurities, variance measures the spread of values along a feature axis."
   ]
  },
  {
   "cell_type": "markdown",
   "metadata": {},
   "source": [
    "## Feature transformation\n",
    "\n",
    "Now let's proceed with the last three steps to transform the Wine dataset onto the new principal component axes. The remaining steps we are going to tackle in this section are the following ones:\n",
    "\n",
    "* Select $k$ eigenvectors, which correspond to the $k$ largest eigenvalues, where $k$ is the dimensionality of the new feature subspace ($k \\leq d$). \n",
    "* Construct a projection matrix $W$ from the \"top\" k eigenvectors.\n",
    "* Transform the d-dimensional input dataset $X$ using the projection matrix $W$ to obtain the new $k$-dimensional feature subspace.\n",
    "\n",
    "Or, in less technical terms, we will sort the eigenpairs by descending order of the eigenvalues, construct a projection matrix from the selected eigenvectors, and use the projection matrix to transform the data onto the lower-dimensional subspace."
   ]
  },
  {
   "cell_type": "code",
   "execution_count": 9,
   "metadata": {},
   "outputs": [
    {
     "data": {
      "text/plain": [
       "[(4.842745315655898,\n",
       "  array([-0.13724218,  0.24724326, -0.02545159,  0.20694508, -0.15436582,\n",
       "         -0.39376952, -0.41735106,  0.30572896, -0.30668347,  0.07554066,\n",
       "         -0.32613263, -0.36861022, -0.29669651])),\n",
       " (2.4160245870352255,\n",
       "  array([ 0.50303478,  0.16487119,  0.24456476, -0.11352904,  0.28974518,\n",
       "          0.05080104, -0.02287338,  0.09048885,  0.00835233,  0.54977581,\n",
       "         -0.20716433, -0.24902536,  0.38022942])),\n",
       " (1.5484582488203513,\n",
       "  array([-0.13774873,  0.09615039,  0.67777567,  0.62504055,  0.19613548,\n",
       "          0.14031057,  0.11705386,  0.13121778,  0.0304309 , -0.07992997,\n",
       "          0.05305915,  0.13239103, -0.07065022])),\n",
       " (0.9612043774977367,\n",
       "  array([-0.0032961 ,  0.56264669, -0.10897711,  0.0338187 , -0.36751107,\n",
       "          0.24024513,  0.1870533 , -0.02292622,  0.49626233,  0.10648294,\n",
       "         -0.36905375,  0.14201609, -0.16768217])),\n",
       " (0.8416616104578422,\n",
       "  array([-0.29062523,  0.08953787, -0.16083499,  0.05158734,  0.67648707,\n",
       "         -0.11851114, -0.10710035, -0.50758161,  0.20163462,  0.00573607,\n",
       "         -0.27691422, -0.06662756, -0.12802904])),\n",
       " (0.6620634040383039,\n",
       "  array([ 2.99096847e-01,  6.27036396e-01,  3.89128239e-04, -4.05836452e-02,\n",
       "          6.57772614e-02, -5.89776247e-02, -3.01103180e-02, -2.71728086e-01,\n",
       "         -4.39997519e-01, -4.11743459e-01,  1.41673377e-01,  1.75842384e-01,\n",
       "          1.38018388e-01])),\n",
       " (0.5182847213561953,\n",
       "  array([ 0.07905293, -0.27400201,  0.13232805,  0.2239991 , -0.40526897,\n",
       "         -0.03474194,  0.04178357, -0.63114569, -0.32312277,  0.26908262,\n",
       "         -0.30264066,  0.13054014,  0.00081134])),\n",
       " (0.34650376641286657,\n",
       "  array([-0.36817641, -0.01257758,  0.17757818, -0.44059211,  0.1166175 ,\n",
       "          0.35019213,  0.21871818,  0.19712942, -0.43305587, -0.06684118,\n",
       "         -0.45976229,  0.11082755,  0.00560817])),\n",
       " (0.3131368004720887,\n",
       "  array([-0.39837702,  0.11045823,  0.38249686, -0.24337385, -0.25898236,\n",
       "         -0.34231286, -0.03612316, -0.17143688,  0.24437021, -0.15551492,\n",
       "          0.02119612, -0.23808956,  0.51727846])),\n",
       " (0.2135721466052733,\n",
       "  array([ 0.37463888, -0.1374056 ,  0.46158303, -0.41895399,  0.01004706,\n",
       "         -0.22125424, -0.04175136, -0.08875695,  0.19992186, -0.22166887,\n",
       "         -0.09846946,  0.01912058, -0.54253207])),\n",
       " (0.18086130479496634,\n",
       "  array([ 0.26283426, -0.26676921, -0.11554255,  0.19948341,  0.02890188,\n",
       "         -0.06638686, -0.21334908,  0.18639128,  0.16808299, -0.46636903,\n",
       "         -0.53248388,  0.23783528,  0.36776336])),\n",
       " (0.15362835006711043,\n",
       "  array([-0.12783451,  0.08064016,  0.01679249, -0.11084566,  0.07938796,\n",
       "         -0.49145931, -0.0503074 ,  0.17532803, -0.00367596,  0.35975654,\n",
       "          0.04046698,  0.74222954,  0.03873952])),\n",
       " (0.10754642369670996,\n",
       "  array([-0.09448698,  0.02636524,  0.14274751, -0.13048578, -0.06760808,\n",
       "          0.45991766, -0.81458395, -0.09574809,  0.06724689,  0.08733362,\n",
       "          0.12906113,  0.18764627,  0.01211126]))]"
      ]
     },
     "execution_count": 9,
     "metadata": {},
     "output_type": "execute_result"
    }
   ],
   "source": [
    "# Make a list of (eigenvalue, eigenvector) tuples\n",
    "eigen_pairs = [(np.abs(eigen_vals[i]), eigen_vecs[:, i]) for i in range(len(eigen_vals))]\n",
    "# eigen_pairs\n",
    "\n",
    "# sort the (eigenvalue, eigenvector) tuples from high to low\n",
    "eigen_pairs.sort(key=lambda k: k[0], reverse=True)\n",
    "eigen_pairs"
   ]
  },
  {
   "cell_type": "markdown",
   "metadata": {},
   "source": [
    "Next, we collect the two eigenvectors that correspond to the two largest eigenvalues, to capture about 60 percent of the variance in this dataset. In practice, the number of principal components has to be determined by a trade-off between computational efficiency and the performance of the classifier."
   ]
  },
  {
   "cell_type": "code",
   "execution_count": 12,
   "metadata": {},
   "outputs": [
    {
     "name": "stdout",
     "output_type": "stream",
     "text": [
      "Matrix W:\n",
      " [[-0.13724218  0.50303478]\n",
      " [ 0.24724326  0.16487119]\n",
      " [-0.02545159  0.24456476]\n",
      " [ 0.20694508 -0.11352904]\n",
      " [-0.15436582  0.28974518]\n",
      " [-0.39376952  0.05080104]\n",
      " [-0.41735106 -0.02287338]\n",
      " [ 0.30572896  0.09048885]\n",
      " [-0.30668347  0.00835233]\n",
      " [ 0.07554066  0.54977581]\n",
      " [-0.32613263 -0.20716433]\n",
      " [-0.36861022 -0.24902536]\n",
      " [-0.29669651  0.38022942]]\n"
     ]
    }
   ],
   "source": [
    "# we created a 13 x 2-dimensional projection matrix W from top two eigenvectors.\n",
    "w = np.hstack((eigen_pairs[0][1][:, np.newaxis], eigen_pairs[1][1][:, np.newaxis]))\n",
    "print('Matrix W:\\n', w)"
   ]
  },
  {
   "cell_type": "markdown",
   "metadata": {},
   "source": [
    "Using the projection matrix, we can now transform a sample $x$ (represented as a $1 \\times 13$-dimensional row vector) onto the PCA subspace (the principal components one and two) obtaining $x^{\\prime}$, now a two-dimensional sample vector consisting of two new features:\n",
    "\n",
    "\\begin{equation*}\n",
    "x^{\\prime} = xW\n",
    "\\end{equation*}"
   ]
  },
  {
   "cell_type": "code",
   "execution_count": 13,
   "metadata": {},
   "outputs": [
    {
     "name": "stdout",
     "output_type": "stream",
     "text": [
      "[ 0.71225893  2.22048673 -0.13025864  0.05962872 -0.50432733 -0.52831584\n",
      " -1.24000033  0.84118003 -1.05215112 -0.29218864 -0.20017028 -0.82164144\n",
      " -0.62946362]\n",
      "[2.38299011 0.45458499]\n"
     ]
    }
   ],
   "source": [
    "print(X_train_std[0])\n",
    "print(X_train_std[0].dot(w))"
   ]
  },
  {
   "cell_type": "markdown",
   "metadata": {},
   "source": [
    "Similarly, we can transform the entire $124 \\times 13$-dimensional training dataset onto the two principal components by calculating the matrix dot product:"
   ]
  },
  {
   "cell_type": "code",
   "execution_count": 10,
   "metadata": {},
   "outputs": [
    {
     "data": {
      "text/plain": [
       "array([[ 2.38299011,  0.45458499],\n",
       "       [-1.96578183,  1.65376939],\n",
       "       [-2.53907598,  1.02909066],\n",
       "       [-1.43010776,  0.6024011 ],\n",
       "       [ 3.14147227,  0.66214979],\n",
       "       [ 0.50253552, -2.08907131],\n",
       "       [ 0.04867722, -2.27536044],\n",
       "       [ 2.47888989, -0.08603318],\n",
       "       [ 2.01900259, -1.3538719 ],\n",
       "       [ 0.75156583, -2.55367947],\n",
       "       [ 0.72268915, -1.18404391],\n",
       "       [-3.00366211,  0.94626934],\n",
       "       [ 2.57518878, -1.0697549 ],\n",
       "       [ 3.73151104,  1.01968876],\n",
       "       [-1.12276518,  0.13877   ],\n",
       "       [ 2.85996853,  2.28819559],\n",
       "       [-0.74717125, -3.21746061],\n",
       "       [-1.58427878,  0.16048055],\n",
       "       [ 3.38887101,  2.11550689],\n",
       "       [ 3.15405473,  0.54233966],\n",
       "       [-1.28036506, -1.72926871],\n",
       "       [-1.71438911,  0.71745249],\n",
       "       [-1.55040291, -1.7580591 ],\n",
       "       [ 1.10984489, -1.20480693],\n",
       "       [-0.69108418, -1.71385374],\n",
       "       [-2.086036  , -1.68453671],\n",
       "       [ 2.90393456,  1.95258805],\n",
       "       [-2.07635784,  1.47183304],\n",
       "       [-1.74756185, -1.25842546],\n",
       "       [ 2.59424456, -0.1056037 ],\n",
       "       [-2.50372355,  0.70412212],\n",
       "       [-2.19448402,  2.18657552],\n",
       "       [ 3.91634534,  0.16136475],\n",
       "       [-1.11739618,  0.51921086],\n",
       "       [-0.89996804, -2.04759575],\n",
       "       [-1.71469178,  0.61392169],\n",
       "       [-2.48581303,  0.76839561],\n",
       "       [-0.76080562, -1.67615627],\n",
       "       [ 2.9265371 ,  0.18854741],\n",
       "       [ 2.94423716,  1.34812388],\n",
       "       [-2.38993219,  1.0848074 ],\n",
       "       [ 2.63885049,  0.75274937],\n",
       "       [ 2.51009031,  2.25237953],\n",
       "       [ 3.65248086,  1.74839925],\n",
       "       [-2.65169609,  1.01997476],\n",
       "       [ 0.52544559, -2.13528249],\n",
       "       [ 2.70197573,  0.56476307],\n",
       "       [ 3.18414708,  2.58094695],\n",
       "       [ 1.12517041, -1.85054449],\n",
       "       [ 2.92366519,  0.41699915],\n",
       "       [-1.96122314, -1.28613661],\n",
       "       [ 0.54473673, -1.07897226],\n",
       "       [-0.77030308, -1.93386815],\n",
       "       [-1.16670455,  0.00489815],\n",
       "       [-1.36475309, -2.13572269],\n",
       "       [ 0.43563732, -2.56929607],\n",
       "       [ 2.96191745,  1.91091009],\n",
       "       [ 2.83609557,  0.65386032],\n",
       "       [ 1.90402089, -0.35296542],\n",
       "       [-2.4858391 , -0.21308835],\n",
       "       [-2.16575568,  1.1468486 ],\n",
       "       [ 0.00669776, -0.94337624],\n",
       "       [ 1.06560181,  3.31221025],\n",
       "       [ 2.13117911,  1.90551304],\n",
       "       [ 1.53543483, -1.50854979],\n",
       "       [-2.66783112,  1.75933599],\n",
       "       [ 0.57279998, -2.7511383 ],\n",
       "       [-0.70710916, -2.43798549],\n",
       "       [-0.99606577, -1.4772411 ],\n",
       "       [-2.67324153,  1.35779609],\n",
       "       [-2.36367378,  1.66537927],\n",
       "       [-0.39171875,  0.13747499],\n",
       "       [-2.98908845,  2.16983165],\n",
       "       [-1.91822539,  1.60141809],\n",
       "       [ 2.3114458 ,  0.207123  ],\n",
       "       [-1.06050503,  0.6004608 ],\n",
       "       [-2.74858609, -0.29016054],\n",
       "       [ 2.26650077,  2.14491758],\n",
       "       [-1.15517469, -0.50262909],\n",
       "       [ 0.16602503, -2.26850051],\n",
       "       [ 1.35589389,  0.33353007],\n",
       "       [-3.31185057,  1.39240115],\n",
       "       [-0.33245686, -2.15639865],\n",
       "       [-2.23205085,  0.52868143],\n",
       "       [ 0.18583758, -1.44446967],\n",
       "       [ 0.84560856,  0.17151684],\n",
       "       [ 2.69500472,  2.74522492],\n",
       "       [ 0.44645674, -0.62393943],\n",
       "       [-1.88961007, -0.04400723],\n",
       "       [-3.08131761,  1.59724429],\n",
       "       [-3.45716348,  1.21428442],\n",
       "       [ 3.87665629,  0.46446004],\n",
       "       [ 1.575516  , -1.82299839],\n",
       "       [-3.43344371,  1.6116814 ],\n",
       "       [-4.20642597,  2.20145366],\n",
       "       [-0.14042971, -2.36871639],\n",
       "       [ 1.82731521, -1.39485103],\n",
       "       [ 2.20564744,  1.28462066],\n",
       "       [ 1.64999054,  2.33211134],\n",
       "       [-1.4611033 , -0.46480324],\n",
       "       [-0.60047516,  0.00920072],\n",
       "       [-3.08276231,  0.28287148],\n",
       "       [ 0.45035749, -2.20263755],\n",
       "       [ 0.90806897, -2.0881686 ],\n",
       "       [ 3.24973637, -0.18273485],\n",
       "       [-3.07882055,  0.69622621],\n",
       "       [ 2.54277306,  1.88571652],\n",
       "       [-2.84838157,  0.63274325],\n",
       "       [-0.88997271, -0.67927226],\n",
       "       [ 0.32368249, -2.07006175],\n",
       "       [ 0.32007527, -2.88708519],\n",
       "       [ 0.44889188, -2.14872532],\n",
       "       [-2.46582558,  1.0745577 ],\n",
       "       [ 2.81678113,  0.56344444],\n",
       "       [-2.16983025,  0.16644199],\n",
       "       [-2.66728229,  1.38137702],\n",
       "       [-3.53223924,  2.57906029],\n",
       "       [-1.96637688,  1.18319185],\n",
       "       [ 1.68741216, -1.35075321],\n",
       "       [ 0.43521077, -2.40355817],\n",
       "       [ 2.59045115,  1.63852921],\n",
       "       [ 4.35308397,  0.66536041],\n",
       "       [-1.84315373, -1.50688415],\n",
       "       [-0.40860955, -1.29720607]])"
      ]
     },
     "execution_count": 10,
     "metadata": {},
     "output_type": "execute_result"
    }
   ],
   "source": [
    "X_train_pca = X_train_std.dot(w)\n",
    "X_train_pca"
   ]
  },
  {
   "cell_type": "code",
   "execution_count": 11,
   "metadata": {},
   "outputs": [
    {
     "data": {
      "image/png": "[encoded data removed]",
      "text/plain": [
       "<Figure size 432x288 with 1 Axes>"
      ]
     },
     "metadata": {
      "needs_background": "light"
     },
     "output_type": "display_data"
    }
   ],
   "source": [
    "# les's visualize the transformed Wine training set.\n",
    "colors = ['r', 'b', 'g']\n",
    "markers = ['s', 'x', 'o']\n",
    "for l, c, m in zip(np.unique(y_train), colors, markers):\n",
    "    plt.scatter(X_train_pca[y_train==l, 0], X_train_pca[y_train==l, 1], c=c, label=l, marker=m)\n",
    "    \n",
    "plt.xlabel('PC 1')\n",
    "plt.ylabel('PC 2')\n",
    "plt.legend(loc='lower left')\n",
    "plt.show()"
   ]
  },
  {
   "cell_type": "markdown",
   "metadata": {},
   "source": [
    "As we can see in the resulting plot, the data is more spread along the x-axis—the first principal component—than the second principal component (y-axis), which is consistent with the explained variance ratio plot that we created in the previous subsection. However, we can intuitively see that a linear classifier will likely be able to separate the classes well.\n",
    "\n",
    "**We have to keep in mind that PCA is an unsupervised technique that doesn't use any class label information.**"
   ]
  },
  {
   "cell_type": "markdown",
   "metadata": {},
   "source": [
    "### Principal component analysis in scikit-learn\n",
    "\n",
    "Now, we will discuss how to use the PCA class implemented in scikit-learn. "
   ]
  },
  {
   "cell_type": "code",
   "execution_count": 14,
   "metadata": {},
   "outputs": [
    {
     "name": "stderr",
     "output_type": "stream",
     "text": [
      "/home/raziel/.virtualenvs/PythonMachineLearning/lib/python3.6/site-packages/sklearn/linear_model/logistic.py:432: FutureWarning: Default solver will be changed to 'lbfgs' in 0.22. Specify a solver to silence this warning.\n",
      "  FutureWarning)\n",
      "/home/raziel/.virtualenvs/PythonMachineLearning/lib/python3.6/site-packages/sklearn/linear_model/logistic.py:459: FutureWarning: Default multi_class will be changed to 'auto' in 0.22. Specify the multi_class option to silence this warning.\n",
      "  \"this warning.\", FutureWarning)\n"
     ]
    },
    {
     "data": {
      "image/png": "[encoded data removed]",
      "text/plain": [
       "<Figure size 432x288 with 1 Axes>"
      ]
     },
     "metadata": {
      "needs_background": "light"
     },
     "output_type": "display_data"
    }
   ],
   "source": [
    "# using PCA from sckit learn\n",
    "from plot_regions import plot_decision_regions\n",
    "from sklearn.linear_model import LogisticRegression\n",
    "from sklearn.decomposition import PCA\n",
    "\n",
    "\n",
    "pca = PCA(n_components=2)\n",
    "lr = LogisticRegression()\n",
    "\n",
    "X_train_pca = pca.fit_transform(X_train_std)\n",
    "X_test_pca = pca.transform(X_test_std)\n",
    "lr.fit(X_train_pca, y_train)\n",
    "plot_decision_regions(X_train_pca, y_train, classifier=lr)\n",
    "\n",
    "plt.xlabel('PC 1')\n",
    "plt.ylabel('PC 2')\n",
    "plt.legend(loc='lower left')\n",
    "plt.show()"
   ]
  },
  {
   "cell_type": "code",
   "execution_count": 15,
   "metadata": {},
   "outputs": [
    {
     "data": {
      "image/png": "[encoded data removed]",
      "text/plain": [
       "<Figure size 432x288 with 1 Axes>"
      ]
     },
     "metadata": {
      "needs_background": "light"
     },
     "output_type": "display_data"
    }
   ],
   "source": [
    "# test the transformed test dataset\n",
    "plot_decision_regions(X_test_pca, y_test, classifier=lr)\n",
    "plt.xlabel('PC 1')\n",
    "plt.ylabel('PC 2')\n",
    "plt.legend(loc='lower left')\n",
    "plt.show()"
   ]
  },
  {
   "cell_type": "markdown",
   "metadata": {},
   "source": [
    "If we are interested in the explained variance ratios of the different principal components, we can simply initialize the PCA class with the n_components parameter set to None, so all principal components are kept and the explained variance ratio can then be accessed via the explained_variance_ratio_ attribute:"
   ]
  },
  {
   "cell_type": "code",
   "execution_count": 20,
   "metadata": {},
   "outputs": [
    {
     "data": {
      "text/plain": [
       "array([0.36951469, 0.18434927, 0.11815159, 0.07334252, 0.06422108,\n",
       "       0.05051724, 0.03954654, 0.02643918, 0.02389319, 0.01629614,\n",
       "       0.01380021, 0.01172226, 0.00820609])"
      ]
     },
     "execution_count": 20,
     "metadata": {},
     "output_type": "execute_result"
    }
   ],
   "source": [
    "pca = PCA(n_components=None)\n",
    "X_train_pca = pca.fit_transform(X_train_std)\n",
    "pca.explained_variance_ratio_"
   ]
  },
  {
   "cell_type": "markdown",
   "metadata": {},
   "source": [
    "Note that we set n_components=None when we initialized the PCA class so that it will return all principal components in a sorted order instead of performing a dimensionality reduction."
   ]
  },
  {
   "cell_type": "code",
   "execution_count": null,
   "metadata": {},
   "outputs": [],
   "source": []
  }
 ],
 "metadata": {
  "kernelspec": {
   "display_name": "Python 3",
   "language": "python",
   "name": "python3"
  },
  "language_info": {
   "codemirror_mode": {
    "name": "ipython",
    "version": 3
   },
   "file_extension": ".py",
   "mimetype": "text/x-python",
   "name": "python",
   "nbconvert_exporter": "python",
   "pygments_lexer": "ipython3",
   "version": "3.7.2"
  }
 },
 "nbformat": 4,
 "nbformat_minor": 2
}
